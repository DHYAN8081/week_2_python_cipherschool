{
 "cells": [
  {
   "cell_type": "code",
   "execution_count": 62,
   "metadata": {},
   "outputs": [
    {
     "name": "stdout",
     "output_type": "stream",
     "text": [
      "12\n",
      "waiting...\n",
      "waiting...\n",
      "waiting...\n",
      "-2\n",
      "waiting...\n",
      "waiting...\n",
      "waiting...\n",
      "35\n",
      "waiting...\n",
      "waiting...\n",
      "waiting...\n"
     ]
    }
   ],
   "source": [
    "a=5\n",
    "b=7\n",
    "\n",
    "print(a+b)\n",
    "print(\"waiting...\")\n",
    "print(\"waiting...\")\n",
    "print(\"waiting...\")\n",
    "\n",
    "print(a-b)\n",
    "print(\"waiting...\")\n",
    "print(\"waiting...\")\n",
    "print(\"waiting...\")\n",
    "\n",
    "print(a*b)\n",
    "print(\"waiting...\")\n",
    "print(\"waiting...\")\n",
    "print(\"waiting...\")\n",
    " "
   ]
  },
  {
   "cell_type": "code",
   "execution_count": 63,
   "metadata": {},
   "outputs": [
    {
     "name": "stdout",
     "output_type": "stream",
     "text": [
      "12\n",
      "loading...\n",
      "loading...\n",
      "loading...\n",
      "-2\n",
      "loading...\n",
      "loading...\n",
      "loading...\n",
      "35\n",
      "loading...\n",
      "loading...\n",
      "loading...\n"
     ]
    }
   ],
   "source": [
    "def show_loading():\n",
    "    for _ in range(3):\n",
    "        print(\"loading...\")\n",
    "\n",
    "a=5\n",
    "b=7\n",
    "\n",
    "print(a+b)\n",
    "show_loading()\n",
    "\n",
    "print(a-b)\n",
    "show_loading()\n",
    "\n",
    "print(a*b)\n",
    "show_loading()"
   ]
  },
  {
   "cell_type": "code",
   "execution_count": 64,
   "metadata": {},
   "outputs": [
    {
     "name": "stdout",
     "output_type": "stream",
     "text": [
      "knock knock knock leonard\n",
      "knock knock knock leonard\n",
      "knock knock knock leonard\n"
     ]
    }
   ],
   "source": [
    "def sheldon_knock(name):\n",
    "    for i in range(3):\n",
    "        print(\"knock knock knock\",name)\n",
    "\n",
    "sheldon_knock(\"leonard\")\n"
   ]
  },
  {
   "cell_type": "code",
   "execution_count": 65,
   "metadata": {},
   "outputs": [
    {
     "name": "stdout",
     "output_type": "stream",
     "text": [
      "knock knock knock leonard\n",
      "knock knock knock leonard\n",
      "knock knock knock leonard\n"
     ]
    }
   ],
   "source": [
    "def sheldon_knock(name,times):\n",
    "    for i in range(times):\n",
    "        print(\"knock knock knock\",name)\n",
    "\n",
    "sheldon_knock(\"leonard\",3)\n"
   ]
  },
  {
   "cell_type": "markdown",
   "metadata": {},
   "source": [
    "return statement"
   ]
  },
  {
   "cell_type": "code",
   "execution_count": 66,
   "metadata": {},
   "outputs": [
    {
     "name": "stdout",
     "output_type": "stream",
     "text": [
      "3\n"
     ]
    }
   ],
   "source": [
    "def add(a,b):\n",
    "    return a + b\n",
    "\n",
    "a=add(1,2)\n",
    "print(a)"
   ]
  },
  {
   "cell_type": "code",
   "execution_count": 67,
   "metadata": {},
   "outputs": [
    {
     "name": "stdout",
     "output_type": "stream",
     "text": [
      "1 2 3 4 5\n",
      "1,2,3,4,5\n"
     ]
    }
   ],
   "source": [
    "print(1,2,3,4,5)\n",
    "print(1,2,3,4,5,sep=\",\")"
   ]
  },
  {
   "cell_type": "code",
   "execution_count": 68,
   "metadata": {},
   "outputs": [
    {
     "name": "stdout",
     "output_type": "stream",
     "text": [
      "1\n",
      "2\n",
      "3\n",
      "2\n",
      "3\n",
      "1\n"
     ]
    }
   ],
   "source": [
    "def func(a,b,c):\n",
    "    print(a)\n",
    "    print(b)\n",
    "    print(c)\n",
    "\n",
    "func(1,2,3)\n",
    "func(c=1,a=2,b=3)     #KEYWORDED ARGUMENTS"
   ]
  },
  {
   "cell_type": "code",
   "execution_count": 69,
   "metadata": {},
   "outputs": [
    {
     "name": "stdout",
     "output_type": "stream",
     "text": [
      "Hello World !\n",
      "<function hello at 0x000001ED28B157E0>\n"
     ]
    }
   ],
   "source": [
    "def hello():\n",
    "   print(\"Hello World !\")\n",
    "\n",
    "a=hello\n",
    "a()\n",
    "print(hello)"
   ]
  },
  {
   "attachments": {},
   "cell_type": "markdown",
   "metadata": {},
   "source": [
    "*args *klwargs"
   ]
  },
  {
   "attachments": {},
   "cell_type": "markdown",
   "metadata": {},
   "source": [
    "Arguments in other languages\n",
    "\n",
    "\n",
    "    -Required arguments\"func(a)\"\n",
    "\n",
    "    -Default arguments\"func(b=1)\"\n",
    "\n",
    "Arguments in pyhton\n",
    "\n",
    "\n",
    "    -Reqired arguments\n",
    "\n",
    "    -Default arguments\n",
    "\n",
    "    -Optional positional only arguments\n",
    "\n",
    "    -Required keyworded only arguments\n",
    "\n",
    "    -Default keyworded only arguments\n",
    "\n",
    "    -Optional keyworded only arguments\n"
   ]
  },
  {
   "cell_type": "code",
   "execution_count": 70,
   "metadata": {},
   "outputs": [
    {
     "name": "stdout",
     "output_type": "stream",
     "text": [
      "<function hello at 0x000001ED28B157E0> 7\n"
     ]
    }
   ],
   "source": [
    "#Required arguments\n",
    "def func(a,b):\n",
    "    print(a,b)\n",
    "func(a,b)"
   ]
  },
  {
   "cell_type": "code",
   "execution_count": 71,
   "metadata": {},
   "outputs": [
    {
     "name": "stdout",
     "output_type": "stream",
     "text": [
      "1 2\n",
      "1 2\n",
      "3 4\n"
     ]
    }
   ],
   "source": [
    "#Default arguments\n",
    "def func(a=1,b=2):\n",
    "    print(a,b)\n",
    "func()\n",
    "func(1)\n",
    "func(3,4)"
   ]
  },
  {
   "cell_type": "code",
   "execution_count": 72,
   "metadata": {},
   "outputs": [
    {
     "name": "stdout",
     "output_type": "stream",
     "text": [
      "1\n",
      "2\n",
      "(3, 4, 'Dhyan', 1.5)\n"
     ]
    }
   ],
   "source": [
    "#Optional positional only arguments\n",
    "def func(a,b,*c):\n",
    "    print(a)\n",
    "    print(b)\n",
    "    print(c)\n",
    "func(1,2,3,4,\"Dhyan\",1.5)"
   ]
  },
  {
   "cell_type": "code",
   "execution_count": 73,
   "metadata": {},
   "outputs": [
    {
     "name": "stdout",
     "output_type": "stream",
     "text": [
      "1\n",
      "2\n",
      "(3, 4, 5, 6, 7)\n",
      "8\n"
     ]
    }
   ],
   "source": [
    "#Required keyworded only arguments\n",
    "def func(a,b,*c,d):\n",
    "    print(a)\n",
    "    print(b)\n",
    "    print(c)\n",
    "    print(d)\n",
    "func(1,2,3,4,5,6,7,d=8)"
   ]
  },
  {
   "cell_type": "code",
   "execution_count": 74,
   "metadata": {},
   "outputs": [
    {
     "name": "stdout",
     "output_type": "stream",
     "text": [
      "1\n",
      "2\n",
      "(3, 4)\n",
      "something\n"
     ]
    }
   ],
   "source": [
    "#Default keyworded only arguments\n",
    "def func(a,b,*c,d,e=\"jatin\"):\n",
    "    print(a)\n",
    "    print(b)\n",
    "    print(c)\n",
    "    print(d)\n",
    "func(1,2,3,4,d=\"something\")"
   ]
  },
  {
   "cell_type": "code",
   "execution_count": 75,
   "metadata": {},
   "outputs": [
    {
     "name": "stdout",
     "output_type": "stream",
     "text": [
      "{'name': 'Dhyan'}\n"
     ]
    }
   ],
   "source": [
    "#Optional keyworded only arguments\n",
    "def func(**k):\n",
    "    print(k)\n",
    "func(name=\"Dhyan\")"
   ]
  },
  {
   "attachments": {},
   "cell_type": "markdown",
   "metadata": {},
   "source": [
    "Anonymous functions or lambda functions"
   ]
  },
  {
   "cell_type": "code",
   "execution_count": 76,
   "metadata": {},
   "outputs": [
    {
     "data": {
      "text/plain": [
       "<function __main__.<lambda>(a, b)>"
      ]
     },
     "execution_count": 76,
     "metadata": {},
     "output_type": "execute_result"
    }
   ],
   "source": [
    "lambda a, b:  a + b"
   ]
  },
  {
   "attachments": {},
   "cell_type": "markdown",
   "metadata": {},
   "source": [
    "Lambda Expressions"
   ]
  },
  {
   "cell_type": "code",
   "execution_count": 77,
   "metadata": {},
   "outputs": [
    {
     "data": {
      "text/plain": [
       "<function __main__.<lambda>(a, b)>"
      ]
     },
     "execution_count": 77,
     "metadata": {},
     "output_type": "execute_result"
    }
   ],
   "source": [
    "lambda a, b: a + b"
   ]
  },
  {
   "cell_type": "code",
   "execution_count": 78,
   "metadata": {},
   "outputs": [
    {
     "name": "stdout",
     "output_type": "stream",
     "text": [
      "somthing\n",
      "somthing\n"
     ]
    },
    {
     "data": {
      "text/plain": [
       "5"
      ]
     },
     "execution_count": 78,
     "metadata": {},
     "output_type": "execute_result"
    }
   ],
   "source": [
    "print(\"somthing\")\n",
    "show=print\n",
    "show(\"somthing\")\n",
    "def func():\n",
    "    return 1+4\n",
    "a=func\n",
    "a()"
   ]
  },
  {
   "attachments": {},
   "cell_type": "markdown",
   "metadata": {},
   "source": [
    "Enumerate Funtions"
   ]
  },
  {
   "cell_type": "code",
   "execution_count": 79,
   "metadata": {},
   "outputs": [
    {
     "name": "stdout",
     "output_type": "stream",
     "text": [
      "abc\n",
      "pqr\n",
      "mno\n",
      "xyz\n",
      "(0, 'abc')\n",
      "(1, 'pqr')\n",
      "(2, 'mno')\n",
      "(3, 'xyz')\n"
     ]
    }
   ],
   "source": [
    "a=[\"abc\",\"pqr\",\"mno\",\"xyz\"]\n",
    "for i in a:\n",
    "    print(i)\n",
    "\n",
    "for i in enumerate(a):\n",
    "    print(i)"
   ]
  },
  {
   "attachments": {},
   "cell_type": "markdown",
   "metadata": {},
   "source": [
    "Types to swap values of 2 variables"
   ]
  },
  {
   "cell_type": "code",
   "execution_count": 80,
   "metadata": {},
   "outputs": [
    {
     "name": "stdout",
     "output_type": "stream",
     "text": [
      "9 5\n"
     ]
    }
   ],
   "source": [
    "a,b=5,9\n",
    " \n",
    "temp=a\n",
    "a=b\n",
    "b=temp\n",
    "\n",
    "print(a,b)\n"
   ]
  },
  {
   "cell_type": "code",
   "execution_count": 81,
   "metadata": {},
   "outputs": [
    {
     "name": "stdout",
     "output_type": "stream",
     "text": [
      "9 5\n"
     ]
    }
   ],
   "source": [
    "a,b=5,9\n",
    "\n",
    "a=a+b\n",
    "b=a-b\n",
    "a=a-b\n",
    "\n",
    "print(a,b)"
   ]
  },
  {
   "cell_type": "code",
   "execution_count": 82,
   "metadata": {},
   "outputs": [
    {
     "name": "stdout",
     "output_type": "stream",
     "text": [
      "9 5\n"
     ]
    }
   ],
   "source": [
    "a,b=5,9\n",
    "\n",
    "a=a^b\n",
    "b=a^b\n",
    "a=a^b\n",
    "\n",
    "print(a,b)"
   ]
  },
  {
   "cell_type": "code",
   "execution_count": 83,
   "metadata": {},
   "outputs": [
    {
     "name": "stdout",
     "output_type": "stream",
     "text": [
      "9 5\n"
     ]
    }
   ],
   "source": [
    "#packing and unpacking values\n",
    "a,b=5,9\n",
    "\n",
    "a,b=b,a\n",
    "\n",
    "print(a,b)"
   ]
  },
  {
   "cell_type": "code",
   "execution_count": 84,
   "metadata": {},
   "outputs": [
    {
     "name": "stdout",
     "output_type": "stream",
     "text": [
      "1 2\n"
     ]
    }
   ],
   "source": [
    "a=[1,2]\n",
    "b,c=a\n",
    "print(b,c)"
   ]
  },
  {
   "attachments": {},
   "cell_type": "markdown",
   "metadata": {},
   "source": [
    "Enumerate Method & Zip Method"
   ]
  },
  {
   "cell_type": "code",
   "execution_count": 85,
   "metadata": {},
   "outputs": [
    {
     "name": "stdout",
     "output_type": "stream",
     "text": [
      "abc - 50\n",
      "mno - 80\n",
      "pqr - 90\n",
      "xyz - 70\n",
      "abc - 50\n",
      "mno - 80\n",
      "pqr - 90\n",
      "xyz - 70\n"
     ]
    }
   ],
   "source": [
    "names=[\"abc\",\"mno\",\"pqr\",\"xyz\"]\n",
    "scores=[50,80,90,70]\n",
    "\n",
    "#Enumerate Method\n",
    "for i,name in enumerate(names):\n",
    "    score=scores[i]\n",
    "    print(name,\"-\",score)\n",
    "\n",
    "#Zip Method\n",
    "for name, score in zip(names, scores):\n",
    "    print(name,\"-\",score)\n"
   ]
  },
  {
   "attachments": {},
   "cell_type": "markdown",
   "metadata": {},
   "source": [
    "Some  String operations\n",
    "\n",
    "    Format, Strip, Split, Replace, Count"
   ]
  },
  {
   "attachments": {},
   "cell_type": "markdown",
   "metadata": {},
   "source": [
    "String Formating or String Interpolation"
   ]
  },
  {
   "cell_type": "code",
   "execution_count": 86,
   "metadata": {},
   "outputs": [
    {
     "name": "stdout",
     "output_type": "stream",
     "text": [
      "value of a is 5\n",
      "value of a is 5\n"
     ]
    }
   ],
   "source": [
    "a=5\n",
    "print(\"value of a is %d\" % (a))\n",
    "print(\"value of a is {}\".format(a))\n",
    "#template string - \"value of a is %d\"\n",
    "#place holder - %d\n",
    "#a must be int type"
   ]
  },
  {
   "cell_type": "code",
   "execution_count": 87,
   "metadata": {},
   "outputs": [
    {
     "data": {
      "text/plain": [
       "'a= 1, b=2, c=3'"
      ]
     },
     "execution_count": 87,
     "metadata": {},
     "output_type": "execute_result"
    }
   ],
   "source": [
    "a,b,c,d=1,2,3,4\n",
    "\"a= {2}, b={1}, c={0}\".format(c,b,a)"
   ]
  },
  {
   "cell_type": "code",
   "execution_count": 88,
   "metadata": {},
   "outputs": [
    {
     "data": {
      "text/plain": [
       "'name= Dhyan chandra pathak, company=Samsung'"
      ]
     },
     "execution_count": 88,
     "metadata": {},
     "output_type": "execute_result"
    }
   ],
   "source": [
    "name=\"Dhyan chandra pathak\"\n",
    "company=\"Samsung\"\n",
    "\"name= {name}, company={company}\".format(name=name,company=company)"
   ]
  },
  {
   "cell_type": "code",
   "execution_count": 89,
   "metadata": {},
   "outputs": [
    {
     "name": "stdout",
     "output_type": "stream",
     "text": [
      "name=Dhyan\n"
     ]
    }
   ],
   "source": [
    "#Format String & Use of Format Modifiers \n",
    "name=\"Dhyan\"\n",
    "print(f\"name={name}\")"
   ]
  },
  {
   "cell_type": "code",
   "execution_count": 90,
   "metadata": {},
   "outputs": [
    {
     "name": "stdout",
     "output_type": "stream",
     "text": [
      "3\n",
      "4\n"
     ]
    }
   ],
   "source": [
    "#Raw string & R modifier\n",
    "a=len(\"a\\nb\")\n",
    "b=len(r\"a\\nb\")\n",
    "print(a)\n",
    "print(b)"
   ]
  },
  {
   "cell_type": "code",
   "execution_count": 91,
   "metadata": {},
   "outputs": [
    {
     "name": "stdout",
     "output_type": "stream",
     "text": [
      "*Dhyan chandra pathak*\n",
      "*Dhyan chandra pathak  *\n",
      "*     Dhyan chandra pathak*\n"
     ]
    }
   ],
   "source": [
    "a1=\"     Dhyan chandra pathak  \".strip()\n",
    "a2=\"     Dhyan chandra pathak  \".lstrip()\n",
    "a3=\"     Dhyan chandra pathak  \".rstrip()\n",
    "print(\"*\"+a1+\"*\")\n",
    "print(\"*\"+a2+\"*\")\n",
    "print(\"*\"+a3+\"*\")"
   ]
  },
  {
   "cell_type": "code",
   "execution_count": 92,
   "metadata": {},
   "outputs": [
    {
     "data": {
      "text/plain": [
       "['1', '2', '3', '4', '5']"
      ]
     },
     "execution_count": 92,
     "metadata": {},
     "output_type": "execute_result"
    }
   ],
   "source": [
    "#Split Method\n",
    "\"1,2,3,4,5\".split(\",\")"
   ]
  },
  {
   "cell_type": "code",
   "execution_count": 93,
   "metadata": {},
   "outputs": [
    {
     "data": {
      "text/plain": [
       "'Dhy_n Ch_ndr_ p_th_k'"
      ]
     },
     "execution_count": 93,
     "metadata": {},
     "output_type": "execute_result"
    }
   ],
   "source": [
    "#Replace Method\n",
    "\"Dhyan Chandra pathak\".replace(\"a\",\"_\")"
   ]
  },
  {
   "cell_type": "code",
   "execution_count": 94,
   "metadata": {},
   "outputs": [
    {
     "data": {
      "text/plain": [
       "5"
      ]
     },
     "execution_count": 94,
     "metadata": {},
     "output_type": "execute_result"
    }
   ],
   "source": [
    "#Count Method\n",
    "\"Dhyan chandra pathak\".count(\"a\")"
   ]
  },
  {
   "attachments": {},
   "cell_type": "markdown",
   "metadata": {},
   "source": [
    "Lists\n",
    "\n",
    "\n",
    "    creating_list"
   ]
  },
  {
   "cell_type": "code",
   "execution_count": 95,
   "metadata": {},
   "outputs": [
    {
     "name": "stdout",
     "output_type": "stream",
     "text": [
      "[1, 2, 3, 4, 5]\n",
      "[100, 2, 3, 4, 5]\n",
      "['Dhyan', 1, 1.5, <built-in function print>]\n"
     ]
    }
   ],
   "source": [
    "a=[1,2,3,4,5,]\n",
    "print(a)\n",
    "a[0]=100       #Lists are Mutable\n",
    "print(a)\n",
    "\n",
    "b=[\"Dhyan\",1,1.5,print]\n",
    "print(b)"
   ]
  },
  {
   "attachments": {},
   "cell_type": "markdown",
   "metadata": {},
   "source": [
    "    Expressions"
   ]
  },
  {
   "cell_type": "code",
   "execution_count": 96,
   "metadata": {},
   "outputs": [
    {
     "name": "stdout",
     "output_type": "stream",
     "text": [
      "5\n"
     ]
    }
   ],
   "source": [
    "#Length Expression\n",
    "a=[1,2,3,4,5]\n",
    "print(len(a))"
   ]
  },
  {
   "cell_type": "code",
   "execution_count": 97,
   "metadata": {},
   "outputs": [
    {
     "name": "stdout",
     "output_type": "stream",
     "text": [
      "[1, 2, 3, 4, 5, 6]\n"
     ]
    }
   ],
   "source": [
    "#Concatenation Expression\n",
    "b=[1,2,3]+[4,5,6]\n",
    "print(b)"
   ]
  },
  {
   "cell_type": "code",
   "execution_count": 98,
   "metadata": {},
   "outputs": [
    {
     "name": "stdout",
     "output_type": "stream",
     "text": [
      "[1, 1, 1, 1]\n"
     ]
    }
   ],
   "source": [
    "#Repetition Expression\n",
    "c=[1]\n",
    "print(c*4)"
   ]
  },
  {
   "cell_type": "code",
   "execution_count": 99,
   "metadata": {},
   "outputs": [
    {
     "name": "stdout",
     "output_type": "stream",
     "text": [
      "False\n",
      "False\n"
     ]
    }
   ],
   "source": [
    "#Membership Expression\n",
    "print(\"1\" in [1,2,3,4,5])\n",
    "print(\"a\" in [1,2,3,4,5])"
   ]
  },
  {
   "cell_type": "code",
   "execution_count": 100,
   "metadata": {},
   "outputs": [
    {
     "name": "stdout",
     "output_type": "stream",
     "text": [
      "1\n",
      "2\n",
      "3\n",
      "4\n",
      "5\n"
     ]
    }
   ],
   "source": [
    "#iteration Expression\n",
    "x=[1,2,3,4,5]\n",
    "for i in x:\n",
    "    print(i)"
   ]
  },
  {
   "cell_type": "code",
   "execution_count": 101,
   "metadata": {},
   "outputs": [
    {
     "name": "stdout",
     "output_type": "stream",
     "text": [
      "6\n",
      "6\n"
     ]
    }
   ],
   "source": [
    "#Indexing &  Slicing\n",
    "y=[1,2,3,4,5,6]\n",
    "print(y[int(len(y))-1])\n",
    "print(y[-1])"
   ]
  },
  {
   "cell_type": "code",
   "execution_count": 102,
   "metadata": {},
   "outputs": [
    {
     "name": "stdout",
     "output_type": "stream",
     "text": [
      "[1, 2, 3, 4, 4, 6]\n",
      "[4, 1, 3, 2, 6, 4]\n",
      "[0, 1, 2, 3, 8, 8]\n",
      "<list_reverseiterator object at 0x000001ED28C8C1C0>\n",
      "[4, 2, 5, 3, 6, 7, 0]\n",
      "[9, 7, 1, 2, 6, 5, 3]\n"
     ]
    }
   ],
   "source": [
    "#Sorting & Reversing\n",
    "\n",
    "a=[4,1,3,2,6,4]\n",
    "b=[8,1,3,2,0,8]\n",
    "\n",
    "print(sorted(a))     #just sorts list without hanging actual list, it's lazy loading\n",
    "print(a)\n",
    "\n",
    "b.sort()             #sorts list witout leaving the peveious list, it's eager loading\n",
    "\n",
    "print(b)\n",
    "\n",
    "\n",
    "c=[4,2,5,3,6,7,0]\n",
    "d=[3,5,6,2,1,7,9]\n",
    "\n",
    "print(reversed(c))      #just reverses list without hanging actual list, it's lazy loading\n",
    "print(c)\n",
    "\n",
    "d.reverse()             #reverses list witout leaving the peveious list, it's eager loading\n",
    "\n",
    "print(d)"
   ]
  },
  {
   "attachments": {},
   "cell_type": "markdown",
   "metadata": {},
   "source": [
    "    Updating Functions"
   ]
  },
  {
   "cell_type": "code",
   "execution_count": 103,
   "metadata": {},
   "outputs": [
    {
     "name": "stdout",
     "output_type": "stream",
     "text": [
      "['a', 'x', 'b', 'c']\n"
     ]
    }
   ],
   "source": [
    "#Insert Function\n",
    "a=['a','b','c']\n",
    "a.insert(1,'x')\n",
    "print(a)"
   ]
  },
  {
   "cell_type": "code",
   "execution_count": 104,
   "metadata": {},
   "outputs": [
    {
     "name": "stdout",
     "output_type": "stream",
     "text": [
      "['a', 'b', 'c', 'x']\n"
     ]
    }
   ],
   "source": [
    "#Append Function\n",
    "a=['a','b','c']\n",
    "a.append('x')\n",
    "print(a)"
   ]
  },
  {
   "attachments": {},
   "cell_type": "markdown",
   "metadata": {},
   "source": [
    "    Deleting Functions"
   ]
  },
  {
   "cell_type": "code",
   "execution_count": 105,
   "metadata": {},
   "outputs": [
    {
     "name": "stdout",
     "output_type": "stream",
     "text": [
      "[2, 3, 4]\n"
     ]
    }
   ],
   "source": [
    "#Del Function\n",
    "a=[1,2,3,4]\n",
    "del a[0]        #deletes element of a given index, having no default value\n",
    "print(a)"
   ]
  },
  {
   "cell_type": "code",
   "execution_count": 106,
   "metadata": {},
   "outputs": [
    {
     "name": "stdout",
     "output_type": "stream",
     "text": [
      "[2, 3, 4]\n",
      "[1, 2, 3, 4]\n"
     ]
    }
   ],
   "source": [
    "#Pop function\n",
    "a=[1,2,3,4]\n",
    "b=[1,2,3,4,5]\n",
    "a.pop(0)       #2 is index \n",
    "b.pop()        #, default index is (.i.e, no number) -1\n",
    "print(a)\n",
    "print(b)"
   ]
  },
  {
   "cell_type": "code",
   "execution_count": 107,
   "metadata": {},
   "outputs": [
    {
     "name": "stdout",
     "output_type": "stream",
     "text": [
      "[1, 3, 4]\n"
     ]
    }
   ],
   "source": [
    "#Remove Function\n",
    "a=[1,2,3,4]\n",
    "a.remove(2)         # removes one particular element\n",
    "print(a)"
   ]
  },
  {
   "cell_type": "code",
   "execution_count": 108,
   "metadata": {},
   "outputs": [
    {
     "name": "stdout",
     "output_type": "stream",
     "text": [
      "[1, 4, 9, 16, 25]\n",
      "1\n",
      "4\n",
      "9\n",
      "16\n",
      "25\n"
     ]
    }
   ],
   "source": [
    "#Map Function\n",
    "#it takes a set of functions as elements\n",
    "a=[1,2,3,4,5]\n",
    "print(list(map(lambda x: x**2, a)))\n",
    "#it alterates all the elements\n",
    "for i in map(lambda x: x**2, a):\n",
    "    print(i)"
   ]
  },
  {
   "cell_type": "code",
   "execution_count": 109,
   "metadata": {},
   "outputs": [
    {
     "name": "stdout",
     "output_type": "stream",
     "text": [
      "<map object at 0x000001ED28C916F0>\n"
     ]
    }
   ],
   "source": [
    "#Split Function\n",
    "a=map(int,input().split())\n",
    "print(a)\n",
    "#to take multiple inputs in a single line"
   ]
  },
  {
   "cell_type": "code",
   "execution_count": 110,
   "metadata": {},
   "outputs": [
    {
     "name": "stdout",
     "output_type": "stream",
     "text": [
      "abc,mno,pqr,xyz\n",
      "abc*mno*pqr*xyz\n"
     ]
    }
   ],
   "source": [
    "#Join Funtion\n",
    "print(\",\".join([\"abc\",\"mno\",\"pqr\",\"xyz\"]))\n",
    "print(\"*\".join([\"abc\",\"mno\",\"pqr\",\"xyz\"]))"
   ]
  },
  {
   "attachments": {},
   "cell_type": "markdown",
   "metadata": {},
   "source": [
    "Tuples"
   ]
  },
  {
   "cell_type": "code",
   "execution_count": 111,
   "metadata": {},
   "outputs": [
    {
     "name": "stdout",
     "output_type": "stream",
     "text": [
      "<class 'tuple'>\n",
      "<class 'tuple'>\n"
     ]
    }
   ],
   "source": [
    "a=(1,2,3)\n",
    "print(type(a))\n",
    "\n",
    "def func(*args):\n",
    "    print(type(args))\n",
    "func(a)\n",
    "#Immutable data type"
   ]
  },
  {
   "cell_type": "code",
   "execution_count": 112,
   "metadata": {},
   "outputs": [
    {
     "data": {
      "text/plain": [
       "(15, 5)"
      ]
     },
     "execution_count": 112,
     "metadata": {},
     "output_type": "execute_result"
    }
   ],
   "source": [
    "#use of tuple in defining functions\n",
    "def sum_diff(a,b):\n",
    "    s=a+b\n",
    "    d=a-b\n",
    "    return s,d\n",
    "sum_diff(10,5)"
   ]
  },
  {
   "cell_type": "code",
   "execution_count": 113,
   "metadata": {},
   "outputs": [
    {
     "name": "stdout",
     "output_type": "stream",
     "text": [
      "[1, 2, 3, 4]\n",
      "(1, 2, 3, 4)\n"
     ]
    }
   ],
   "source": [
    "#Conversion - Lists to Tuples & Tuples to Lists\n",
    "#Type Casting\n",
    "a=(1,2,3,4)\n",
    "print(list(a))\n",
    "\n",
    "b=[1,2,3,4]\n",
    "print(tuple(b))"
   ]
  },
  {
   "attachments": {},
   "cell_type": "markdown",
   "metadata": {},
   "source": [
    "Dictonaries"
   ]
  },
  {
   "cell_type": "code",
   "execution_count": 114,
   "metadata": {},
   "outputs": [
    {
     "name": "stdout",
     "output_type": "stream",
     "text": [
      "Dhyan\n"
     ]
    }
   ],
   "source": [
    "\n",
    "#it works as key:value pairs\n",
    "#lists can't work as key\n",
    "\n",
    "a={\n",
    "    \"name\":\"Dhyan\",\n",
    "    1:\"number\",\n",
    "    (1,2): \"tuple\"\n",
    "}\n",
    "\n",
    "print(a[\"name\"])\n"
   ]
  },
  {
   "cell_type": "code",
   "execution_count": 115,
   "metadata": {},
   "outputs": [
    {
     "name": "stdout",
     "output_type": "stream",
     "text": [
      "Rana\n"
     ]
    }
   ],
   "source": [
    "#Mutability of Dictionaries\n",
    "#changing value by using key\n",
    "a={\n",
    "    \"name\":\"Dhyan\",\n",
    "    1:\"number\",\n",
    "    (1,2): \"tuple\"\n",
    "}\n",
    "\n",
    "a[\"name\"]=\"Rana\"\n",
    "\n",
    "print(a[\"name\"])"
   ]
  },
  {
   "attachments": {},
   "cell_type": "markdown",
   "metadata": {},
   "source": [
    "    Dictionary Operaters"
   ]
  },
  {
   "cell_type": "code",
   "execution_count": 116,
   "metadata": {},
   "outputs": [
    {
     "name": "stdout",
     "output_type": "stream",
     "text": [
      "None\n",
      "key doesn't exist\n",
      "Dhyan\n"
     ]
    }
   ],
   "source": [
    "#Use of Get Operaters\n",
    "a={\n",
    "    \"name\":\"Dhyan\",\n",
    "    \"batch\":\"KOC07\",\n",
    "    \"roll\":\"RKOC07B44\"\n",
    "}\n",
    "key1=\"marks\"\n",
    "print(a.get(key1))\n",
    "print(a.get(key1,\"key doesn't exist\"))\n",
    "#otherwise it will show error for key which is not in the dictionary\n",
    "\n",
    "key2=\"name\"\n",
    "print(a.get(key2))"
   ]
  },
  {
   "cell_type": "code",
   "execution_count": 117,
   "metadata": {},
   "outputs": [
    {
     "name": "stdout",
     "output_type": "stream",
     "text": [
      "('name', 'Dhyan')\n",
      "('batch', 'KOC07')\n",
      "('roll', 'RKOC07B44')\n",
      "name -> Dhyan\n",
      "batch -> KOC07\n",
      "roll -> RKOC07B44\n"
     ]
    }
   ],
   "source": [
    "#Use of Items Operaters\n",
    "a={\n",
    "    \"name\":\"Dhyan\",\n",
    "    \"batch\":\"KOC07\",\n",
    "    \"roll\":\"RKOC07B44\"\n",
    "}\n",
    "\n",
    "for i  in a.items():\n",
    "    print(i)\n",
    "\n",
    "for key, value in a.items():\n",
    "    print(key,\"->\",value)\n",
    "\n",
    "#printed in form of tuples"
   ]
  },
  {
   "cell_type": "code",
   "execution_count": 118,
   "metadata": {},
   "outputs": [
    {
     "name": "stdout",
     "output_type": "stream",
     "text": [
      "key doesn't exist\n",
      "Dhyan\n",
      "name\n",
      "batch\n",
      "roll\n"
     ]
    }
   ],
   "source": [
    "#Use of Key Operater \n",
    "# NOTE: Use of value Operater is same\n",
    "\n",
    "#keys works and acts as indices\n",
    "#keys of dictionaries can be any hashable objects\n",
    "\n",
    "a={\n",
    "    \"name\":\"Dhyan\",\n",
    "    \"batch\":\"KOC07\",\n",
    "    \"roll\":\"RKOC07B44\"\n",
    "}\n",
    "key1=\"marks\"\n",
    "if key1 in a:\n",
    "    print(a[key1])\n",
    "else:\n",
    "    print(\"key doesn't exist\")\n",
    "#otherwise it will show error for key which is not in the dictionary\n",
    "\n",
    "key2=\"name\"\n",
    "print(a[\"name\"])\n",
    "\n",
    "\n",
    "#To print all the keys\n",
    "for i in a:\n",
    "    print(i)"
   ]
  },
  {
   "cell_type": "code",
   "execution_count": 119,
   "metadata": {},
   "outputs": [
    {
     "ename": "ValueError",
     "evalue": "invalid literal for int() with base 10: ''",
     "output_type": "error",
     "traceback": [
      "\u001b[1;31m---------------------------------------------------------------------------\u001b[0m",
      "\u001b[1;31mValueError\u001b[0m                                Traceback (most recent call last)",
      "Cell \u001b[1;32mIn[119], line 23\u001b[0m\n\u001b[0;32m     21\u001b[0m \u001b[39m#Solution:-\u001b[39;00m\n\u001b[0;32m     22\u001b[0m l\u001b[39m=\u001b[39m[]\n\u001b[1;32m---> 23\u001b[0m n\u001b[39m=\u001b[39m\u001b[39mint\u001b[39;49m(\u001b[39minput\u001b[39;49m(\u001b[39m\"\u001b[39;49m\u001b[39m\"\u001b[39;49m))\n\u001b[0;32m     24\u001b[0m \u001b[39mfor\u001b[39;00m o \u001b[39min\u001b[39;00m \u001b[39mrange\u001b[39m(\u001b[39m1\u001b[39m,n\u001b[39m+\u001b[39m\u001b[39m1\u001b[39m):\n\u001b[0;32m     25\u001b[0m     \u001b[39mdict\u001b[39m\u001b[39m=\u001b[39m{}\n",
      "\u001b[1;31mValueError\u001b[0m: invalid literal for int() with base 10: ''"
     ]
    }
   ],
   "source": [
    "'''\n",
    "Q.  Write a simple program which inputs and stores the data about university students as a list  of  dictionaries. Your final record srtucture should look like this:\n",
    "[\n",
    "    {\n",
    "        'roll-no':1211,\n",
    "        'name':'Ravi',\n",
    "        'branch':'CSE'\n",
    "    },\n",
    "    {\n",
    "        'roll-no':202,\n",
    "        'name':'Abhishek',\n",
    "        'branch':'CSE'\n",
    "    },\n",
    "    {\n",
    "        'roll-no':1202,\n",
    "        'name':'Sachin',\n",
    "        'branch':'IT'\n",
    "    }\n",
    "]\n",
    "'''\n",
    "#Solution:-\n",
    "l=[]\n",
    "n=int(input(\"\"))\n",
    "for o in range(1,n+1):\n",
    "    dict={}\n",
    "    x=list(input().split(\",\"))\n",
    "    y=list(input().split(\",\"))\n",
    "    for i,j in zip(x,y):\n",
    "        dict.update({i:j})\n",
    "    l.append(dict)\n",
    "print(l)"
   ]
  },
  {
   "cell_type": "code",
   "execution_count": null,
   "metadata": {},
   "outputs": [
    {
     "name": "stdout",
     "output_type": "stream",
     "text": [
      "None\n"
     ]
    }
   ],
   "source": [
    "#Clear Funtion\n",
    "\n",
    "#to clear dictionary\n",
    "a={\n",
    "        'roll-no':1211,\n",
    "        'name':'Ravi',\n",
    "        'branch':'CSE'\n",
    "    }\n",
    "b=a.clear()\n",
    "print(b)"
   ]
  },
  {
   "attachments": {},
   "cell_type": "markdown",
   "metadata": {},
   "source": [
    "Sets\n",
    "    \n",
    "    Operations as Functions"
   ]
  },
  {
   "cell_type": "code",
   "execution_count": null,
   "metadata": {},
   "outputs": [
    {
     "name": "stdout",
     "output_type": "stream",
     "text": [
      "<class 'set'>\n",
      "1\n",
      "2\n",
      "3\n",
      "4\n",
      "{1, 2}\n",
      "{1, 2, 3, 4, 5, 6}\n",
      "{3, 4}\n",
      "None\n"
     ]
    }
   ],
   "source": [
    "#same as sets in maths\n",
    "a={1,2,3,4}\n",
    "b={3,4,5,6}\n",
    "print(type(a))           #the data type\n",
    "\n",
    "for i in a:              #no indexing & sorting is available\n",
    "    print(i)\n",
    "\n",
    "print(a-b)               #arithemaic set operations\n",
    "\n",
    "print(a.union(b))         #Union same as in maths\n",
    "\n",
    "print(a.intersection(b))  #intersection same as in maths\n",
    "\n",
    "print(a.add(1))            #add same as in maths\n",
    "\n",
    "print(a.remove(1))          #remove same as in maths)"
   ]
  },
  {
   "cell_type": "code",
   "execution_count": null,
   "metadata": {},
   "outputs": [
    {
     "name": "stdout",
     "output_type": "stream",
     "text": [
      "[['', '2', ''], ['', '2', ''], ['', '2', '']]\n"
     ]
    }
   ],
   "source": [
    "#Array partial code\n",
    "a=[\n",
    "    ['']*3\n",
    "]*3\n",
    "\n",
    "a[1][1]='2'\n",
    "print(a)"
   ]
  },
  {
   "cell_type": "code",
   "execution_count": null,
   "metadata": {},
   "outputs": [
    {
     "data": {
      "text/plain": [
       "1423157184"
      ]
     },
     "execution_count": 71,
     "metadata": {},
     "output_type": "execute_result"
    }
   ],
   "source": [
    "#id Function\n",
    "#shows the memory address\n",
    "a=2\n",
    "id(a)"
   ]
  },
  {
   "cell_type": "code",
   "execution_count": null,
   "metadata": {},
   "outputs": [],
   "source": [
    "#is Operater\n",
    "a,b,c=121,121,141\n",
    "print(a==b)\n",
    "print(a==c)\n",
    "\n",
    "print(a is b)\n",
    "print(a is c)"
   ]
  },
  {
   "cell_type": "code",
   "execution_count": null,
   "metadata": {},
   "outputs": [
    {
     "data": {
      "text/plain": [
       "-1880945069"
      ]
     },
     "execution_count": 72,
     "metadata": {},
     "output_type": "execute_result"
    }
   ],
   "source": [
    "#hash Operater\n",
    "#work on immutale obejcts\n",
    "#used to store memory address for things not to be changed like passwords\n",
    "a=\"D@2089\"\n",
    "hash(a)"
   ]
  },
  {
   "attachments": {},
   "cell_type": "markdown",
   "metadata": {},
   "source": [
    "Comprehension"
   ]
  },
  {
   "cell_type": "code",
   "execution_count": null,
   "metadata": {},
   "outputs": [
    {
     "name": "stdout",
     "output_type": "stream",
     "text": [
      "[[0, 1, 2, 3, 4], [0, 1, 2, 3, 4], [0, 1, 2, 3, 4], [0, 1, 2, 3, 4], [0, 1, 2, 3, 4]]\n",
      "[[0, 1, 2, 3, 4], [0, 1, 2, 3, 4], [0, 1, 2, 3, 4], [0, 1, 2, 3, 4], [0, 1, 2, 3, 4]]\n",
      "[[(0, 0), (0, 1), (0, 2)], [(1, 0), (1, 1), (1, 2)], [(2, 0), (2, 1), (2, 2)]]\n",
      "{2: 4, 3: 9, 4: 16}\n",
      "{0: 0, 1: 1, 2: 4, 3: 9, 4: 16}\n"
     ]
    }
   ],
   "source": [
    "#normal method\n",
    "a=[]\n",
    "for i in range(5):\n",
    "    temp=[]\n",
    "    for j in range(5):\n",
    "        temp.append(j)\n",
    "    a.append(temp)\n",
    "print(a)\n",
    "\n",
    "# NOTE: in comprehension the initial variable in loops generally i is called GENERATOR \n",
    "\n",
    "#list comprehension method\n",
    "\n",
    "b=[[j for j in range(5)] for i in range(5)]\n",
    "print(b)\n",
    "\n",
    "#for Tuple comprehension method\n",
    "c=[[(i,j) for j in range(3)] for i in range(3)]\n",
    "print(c)\n",
    "\n",
    "d={\n",
    "    0:0,\n",
    "    1:1,\n",
    "    2:4,\n",
    "    3:9,\n",
    "    4:16\n",
    "}\n",
    "\n",
    "e={i:i**2 for i in range(0,5)}\n",
    "print(d)\n",
    "print(e)\n",
    "\n",
    "#Set Cpomprehenson method\n",
    "f={0,1,2,3,4}\n",
    "g={i for i in range(5)}\n",
    "print(f)\n",
    "print(g)\n"
   ]
  },
  {
   "attachments": {},
   "cell_type": "markdown",
   "metadata": {},
   "source": [
    "Object Oriented Programing Introduction"
   ]
  },
  {
   "cell_type": "code",
   "execution_count": null,
   "metadata": {},
   "outputs": [
    {
     "name": "stdout",
     "output_type": "stream",
     "text": [
      "\u001b[1;31mDocstring:\u001b[0m\n",
      "print(value, ..., sep=' ', end='\\n', file=sys.stdout, flush=False)\n",
      "\n",
      "Prints the values to a stream, or to sys.stdout by default.\n",
      "Optional keyword arguments:\n",
      "file:  a file-like object (stream); defaults to the current sys.stdout.\n",
      "sep:   string inserted between values, default a space.\n",
      "end:   string appended after the last value, default a newline.\n",
      "flush: whether to forcibly flush the stream.\n",
      "\u001b[1;31mType:\u001b[0m      builtin_function_or_method\n"
     ]
    }
   ],
   "source": [
    "print?"
   ]
  },
  {
   "cell_type": "code",
   "execution_count": null,
   "metadata": {},
   "outputs": [
    {
     "name": "stdout",
     "output_type": "stream",
     "text": [
      "Hello Evevryone i'm Piyush\n"
     ]
    }
   ],
   "source": [
    "#Method call function\n",
    "#classes traits are:\n",
    "#  calllables(eg. functionsc, classes), iterable(eg. lists, string & generator) & contextable(eg. files)\n",
    "class Person:\n",
    "    name=\"Dhyan\"\n",
    "    def say_hi(self):\n",
    "        print(f\"Hello Evevryone i'm {self.name}\")\n",
    "p=Person()\n",
    "p.say_hi()"
   ]
  },
  {
   "attachments": {},
   "cell_type": "markdown",
   "metadata": {},
   "source": [
    "The__init__method\n",
    "\n",
    "    Dunders\n"
   ]
  },
  {
   "cell_type": "code",
   "execution_count": null,
   "metadata": {},
   "outputs": [
    {
     "name": "stdout",
     "output_type": "stream",
     "text": [
      "Hello, my name is Piyush\n"
     ]
    }
   ],
   "source": [
    "#Dunders are the various operations by which an object goes through during it's live cycle till the death .i.e. __<name of dunder>__\n",
    "#__init__ method\n",
    "class Person:\n",
    "    def __init__(self,name):\n",
    "        self.name = name\n",
    "\n",
    "    def say_hi(self):\n",
    "        print('Hello, my name is',self.name)\n",
    "p=Person('Dhyan')\n",
    "p.say_hi()"
   ]
  },
  {
   "cell_type": "code",
   "execution_count": null,
   "metadata": {},
   "outputs": [
    {
     "name": "stdout",
     "output_type": "stream",
     "text": [
      "<__main__.A object at 0x065FD160>\n",
      "initialized\n"
     ]
    }
   ],
   "source": [
    "class A:\n",
    "    def __init__(self):\n",
    "        print(self)\n",
    "        print(\"initialized\")\n",
    "a=A()"
   ]
  },
  {
   "cell_type": "code",
   "execution_count": null,
   "metadata": {},
   "outputs": [
    {
     "data": {
      "text/plain": [
       "6"
      ]
     },
     "execution_count": 25,
     "metadata": {},
     "output_type": "execute_result"
    }
   ],
   "source": [
    "a=1\n",
    "a.__add__(5)"
   ]
  },
  {
   "cell_type": "code",
   "execution_count": null,
   "metadata": {},
   "outputs": [
    {
     "data": {
      "text/plain": [
       "'PiyushPiyush'"
      ]
     },
     "execution_count": 26,
     "metadata": {},
     "output_type": "execute_result"
    }
   ],
   "source": [
    "\"Dhyan\".__mul__(2)"
   ]
  },
  {
   "cell_type": "code",
   "execution_count": null,
   "metadata": {},
   "outputs": [
    {
     "name": "stdout",
     "output_type": "stream",
     "text": [
      "<__main__.A object at 0x065E4E68>\n"
     ]
    }
   ],
   "source": [
    "class A:\n",
    "    a,b=1,2\n",
    "    def __add__(self,x):\n",
    "        return (self.a + self.b + x)\n",
    "a=A()\n",
    "print(a)"
   ]
  }
 ],
 "metadata": {
  "kernelspec": {
   "display_name": "Python 3",
   "language": "python",
   "name": "python3"
  },
  "language_info": {
   "codemirror_mode": {
    "name": "ipython",
    "version": 3
   },
   "file_extension": ".py",
   "mimetype": "text/x-python",
   "name": "python",
   "nbconvert_exporter": "python",
   "pygments_lexer": "ipython3",
   "version": "3.10.8"
  },
  "orig_nbformat": 4,
  "vscode": {
   "interpreter": {
    "hash": "65a440aeac0c89e2af7569e0aa53b64434c4b69eb6285e2b0d174d9bca190d54"
   }
  }
 },
 "nbformat": 4,
 "nbformat_minor": 2
}
